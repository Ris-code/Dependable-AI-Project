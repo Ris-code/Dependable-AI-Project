{
  "nbformat": 4,
  "nbformat_minor": 0,
  "metadata": {
    "colab": {
      "provenance": [],
      "gpuType": "T4",
      "authorship_tag": "ABX9TyPrgFsSKdqNbItkuoTTC0uK",
      "include_colab_link": true
    },
    "kernelspec": {
      "name": "python3",
      "display_name": "Python 3"
    },
    "language_info": {
      "name": "python"
    },
    "accelerator": "GPU"
  },
  "cells": [
    {
      "cell_type": "markdown",
      "metadata": {
        "id": "view-in-github",
        "colab_type": "text"
      },
      "source": [
        "<a href=\"https://colab.research.google.com/github/Ris-code/Dependable-AI-Project/blob/main/Grad_Cam_CNN.ipynb\" target=\"_parent\"><img src=\"https://colab.research.google.com/assets/colab-badge.svg\" alt=\"Open In Colab\"/></a>"
      ]
    },
    {
      "cell_type": "markdown",
      "source": [
        "## **Dataset**"
      ],
      "metadata": {
        "id": "yo7yXSlgr_JT"
      }
    },
    {
      "cell_type": "code",
      "source": [
        "import tensorflow as tf\n",
        "import numpy as np\n",
        "\n",
        "(x_train, y_train), (x_test, y_test) = tf.keras.datasets.cifar100.load_data()\n",
        "\n",
        "# train set / data\n",
        "x_train = x_train.astype('float32') / 255\n",
        "# train set / target\n",
        "y_train = tf.keras.utils.to_categorical(y_train , num_classes=100)\n",
        "\n",
        "# validation set / data\n",
        "x_test = x_test.astype('float32') / 255\n",
        "# validation set / target\n",
        "y_test = tf.keras.utils.to_categorical(y_test, num_classes=100)\n",
        "\n",
        "print(x_train.shape, y_train.shape)\n",
        "print(x_test.shape, y_test.shape)"
      ],
      "metadata": {
        "id": "IafeTENwrkhx",
        "colab": {
          "base_uri": "https://localhost:8080/"
        },
        "outputId": "0ed2a5ed-0b20-4277-8f94-7e0b892be039"
      },
      "execution_count": 48,
      "outputs": [
        {
          "output_type": "stream",
          "name": "stdout",
          "text": [
            "(50000, 32, 32, 3) (50000, 100)\n",
            "(10000, 32, 32, 3) (10000, 100)\n"
          ]
        }
      ]
    },
    {
      "cell_type": "markdown",
      "source": [
        "## **Model**"
      ],
      "metadata": {
        "id": "6MxxJWrQttdf"
      }
    },
    {
      "cell_type": "code",
      "source": [
        "input = tf.keras.Input(shape=(32,32,3))\n",
        "efnet = tf.keras.applications.EfficientNetB0(weights='imagenet',\n",
        "                                             include_top = False,\n",
        "                                             input_tensor = input)\n",
        "# Now that we apply global max pooling.\n",
        "gap = tf.keras.layers.GlobalMaxPooling2D()(efnet.output)\n",
        "\n",
        "# Finally, we add a classification layer.\n",
        "output = tf.keras.layers.Dense(100, activation='softmax')(gap)\n",
        "\n",
        "# bind all\n",
        "func_model = tf.keras.Model(efnet.input, output)"
      ],
      "metadata": {
        "id": "mTw89e2XtyMJ"
      },
      "execution_count": 49,
      "outputs": []
    },
    {
      "cell_type": "markdown",
      "source": [
        "## **Compile and Run**"
      ],
      "metadata": {
        "id": "9BLWQjG2t1o3"
      }
    },
    {
      "cell_type": "code",
      "source": [
        "func_model.compile(\n",
        "          loss      = tf.keras.losses.CategoricalCrossentropy(),\n",
        "          metrics   = tf.keras.metrics.CategoricalAccuracy(),\n",
        "          optimizer = tf.keras.optimizers.Adam())\n",
        "# fit\n",
        "func_model.fit(x_train, y_train, batch_size=128, epochs=30, verbose = 2)"
      ],
      "metadata": {
        "colab": {
          "base_uri": "https://localhost:8080/"
        },
        "id": "wiCeJzVkt1Ar",
        "outputId": "b5ad2f5a-3577-48ff-d05d-8465576cf50b"
      },
      "execution_count": 50,
      "outputs": [
        {
          "output_type": "stream",
          "name": "stdout",
          "text": [
            "Epoch 1/30\n",
            "391/391 - 48s - loss: 3.3127 - categorical_accuracy: 0.2169 - 48s/epoch - 123ms/step\n",
            "Epoch 2/30\n",
            "391/391 - 17s - loss: 2.2088 - categorical_accuracy: 0.4164 - 17s/epoch - 45ms/step\n",
            "Epoch 3/30\n",
            "391/391 - 18s - loss: 1.7875 - categorical_accuracy: 0.5083 - 18s/epoch - 46ms/step\n",
            "Epoch 4/30\n",
            "391/391 - 20s - loss: 1.5147 - categorical_accuracy: 0.5697 - 20s/epoch - 51ms/step\n",
            "Epoch 5/30\n",
            "391/391 - 19s - loss: 1.2817 - categorical_accuracy: 0.6236 - 19s/epoch - 49ms/step\n",
            "Epoch 6/30\n",
            "391/391 - 19s - loss: 1.0806 - categorical_accuracy: 0.6790 - 19s/epoch - 48ms/step\n",
            "Epoch 7/30\n",
            "391/391 - 18s - loss: 0.9171 - categorical_accuracy: 0.7209 - 18s/epoch - 45ms/step\n",
            "Epoch 8/30\n",
            "391/391 - 18s - loss: 0.7655 - categorical_accuracy: 0.7639 - 18s/epoch - 46ms/step\n",
            "Epoch 9/30\n",
            "391/391 - 17s - loss: 0.6462 - categorical_accuracy: 0.7962 - 17s/epoch - 45ms/step\n",
            "Epoch 10/30\n",
            "391/391 - 18s - loss: 0.5481 - categorical_accuracy: 0.8265 - 18s/epoch - 45ms/step\n",
            "Epoch 11/30\n",
            "391/391 - 17s - loss: 0.4788 - categorical_accuracy: 0.8473 - 17s/epoch - 44ms/step\n",
            "Epoch 12/30\n",
            "391/391 - 18s - loss: 0.4106 - categorical_accuracy: 0.8672 - 18s/epoch - 46ms/step\n",
            "Epoch 13/30\n",
            "391/391 - 18s - loss: 0.3606 - categorical_accuracy: 0.8838 - 18s/epoch - 45ms/step\n",
            "Epoch 14/30\n",
            "391/391 - 18s - loss: 0.3385 - categorical_accuracy: 0.8903 - 18s/epoch - 46ms/step\n",
            "Epoch 15/30\n",
            "391/391 - 17s - loss: 0.3098 - categorical_accuracy: 0.9001 - 17s/epoch - 45ms/step\n",
            "Epoch 16/30\n",
            "391/391 - 19s - loss: 0.2911 - categorical_accuracy: 0.9068 - 19s/epoch - 49ms/step\n",
            "Epoch 17/30\n",
            "391/391 - 18s - loss: 0.2853 - categorical_accuracy: 0.9088 - 18s/epoch - 45ms/step\n",
            "Epoch 18/30\n",
            "391/391 - 19s - loss: 0.2691 - categorical_accuracy: 0.9132 - 19s/epoch - 48ms/step\n",
            "Epoch 19/30\n",
            "391/391 - 18s - loss: 0.2419 - categorical_accuracy: 0.9221 - 18s/epoch - 47ms/step\n",
            "Epoch 20/30\n",
            "391/391 - 18s - loss: 0.2275 - categorical_accuracy: 0.9271 - 18s/epoch - 47ms/step\n",
            "Epoch 21/30\n",
            "391/391 - 17s - loss: 0.2297 - categorical_accuracy: 0.9248 - 17s/epoch - 44ms/step\n",
            "Epoch 22/30\n",
            "391/391 - 18s - loss: 0.2205 - categorical_accuracy: 0.9296 - 18s/epoch - 46ms/step\n",
            "Epoch 23/30\n",
            "391/391 - 17s - loss: 0.2238 - categorical_accuracy: 0.9295 - 17s/epoch - 44ms/step\n",
            "Epoch 24/30\n",
            "391/391 - 18s - loss: 0.2029 - categorical_accuracy: 0.9360 - 18s/epoch - 45ms/step\n",
            "Epoch 25/30\n",
            "391/391 - 17s - loss: 0.1997 - categorical_accuracy: 0.9361 - 17s/epoch - 44ms/step\n",
            "Epoch 26/30\n",
            "391/391 - 19s - loss: 0.1902 - categorical_accuracy: 0.9378 - 19s/epoch - 47ms/step\n",
            "Epoch 27/30\n",
            "391/391 - 18s - loss: 0.1773 - categorical_accuracy: 0.9446 - 18s/epoch - 46ms/step\n",
            "Epoch 28/30\n",
            "391/391 - 19s - loss: 0.1787 - categorical_accuracy: 0.9431 - 19s/epoch - 48ms/step\n",
            "Epoch 29/30\n",
            "391/391 - 18s - loss: 0.1868 - categorical_accuracy: 0.9383 - 18s/epoch - 47ms/step\n",
            "Epoch 30/30\n",
            "391/391 - 19s - loss: 0.1863 - categorical_accuracy: 0.9397 - 19s/epoch - 47ms/step\n"
          ]
        },
        {
          "output_type": "execute_result",
          "data": {
            "text/plain": [
              "<keras.src.callbacks.History at 0x7b342f59bf70>"
            ]
          },
          "metadata": {},
          "execution_count": 50
        }
      ]
    },
    {
      "cell_type": "markdown",
      "source": [
        "## **Grad-Cam**"
      ],
      "metadata": {
        "id": "nOjohuhXuBc-"
      }
    },
    {
      "cell_type": "code",
      "source": [
        "import tensorflow as tf\n",
        "import numpy as np\n",
        "import cv2\n",
        "from tensorflow.keras.models import Model\n",
        "\n",
        "class GradCAM:\n",
        "    def __init__(self, model, class_idx, layer_name=None):\n",
        "        self.model = model\n",
        "        self.class_idx = class_idx\n",
        "        self.layer_name = layer_name or self.find_target_layer()\n",
        "\n",
        "    def find_target_layer(self):\n",
        "        for layer in reversed(self.model.layers):\n",
        "            if len(layer.output_shape) == 4:\n",
        "                return layer.name\n",
        "        raise ValueError(\"Could not find 4D layer. Cannot apply GradCAM.\")\n",
        "\n",
        "    def compute_heatmap(self, image, eps=1e-8):\n",
        "        grad_model = Model(inputs=[self.model.inputs], outputs=[self.model.get_layer(self.layer_name).output, self.model.output])\n",
        "        with tf.GradientTape() as tape:\n",
        "            inputs = tf.cast(image, tf.float32)\n",
        "            conv_outputs, predictions = grad_model(inputs)\n",
        "            loss = predictions[:, tf.argmax(predictions[0])]\n",
        "        grads = tape.gradient(loss, conv_outputs)\n",
        "        cast_conv_outputs = tf.cast(conv_outputs > 0, \"float32\")\n",
        "        cast_grads = tf.cast(grads > 0, \"float32\")\n",
        "        guided_grads = cast_conv_outputs * cast_grads * grads\n",
        "        conv_outputs = conv_outputs[0]\n",
        "        guided_grads = guided_grads[0]\n",
        "        weights = tf.reduce_mean(guided_grads, axis=(0, 1))\n",
        "        cam = tf.reduce_sum(tf.multiply(weights, conv_outputs), axis=-1)\n",
        "        (w, h) = (image.shape[2], image.shape[1])\n",
        "        heatmap = cv2.resize(cam.numpy(), (w, h))\n",
        "        heatmap = ((heatmap - np.min(heatmap)) / ((heatmap.max() - heatmap.min()) + eps) * 255).astype(\"uint8\")\n",
        "        return heatmap\n",
        "\n",
        "    def overlay_heatmap(self, heatmap, image, alpha=0.5,\n",
        "                          colormap=cv2.COLORMAP_VIRIDIS):\n",
        "          heatmap = cv2.applyColorMap(heatmap, colormap)\n",
        "          output = cv2.addWeighted(image, alpha, heatmap, 1 - alpha, 0)\n",
        "          return heatmap, output\n"
      ],
      "metadata": {
        "id": "pry2F0AouLQH"
      },
      "execution_count": 51,
      "outputs": []
    },
    {
      "cell_type": "markdown",
      "source": [
        "## **Prediction**"
      ],
      "metadata": {
        "id": "KgfPENRluQb4"
      }
    },
    {
      "cell_type": "code",
      "source": [
        "image = cv2.imread('/content/dog_1.jpg')\n",
        "image = cv2.resize(image, (32, 32))\n",
        "image = image.astype('float32') / 255\n",
        "image = np.expand_dims(image, axis=0)\n",
        "\n",
        "preds = func_model.predict(image)\n",
        "i = np.argmax(preds[0])"
      ],
      "metadata": {
        "colab": {
          "base_uri": "https://localhost:8080/"
        },
        "id": "5XZoMf2RuQKP",
        "outputId": "a14812db-40f0-4476-c304-2c58cfbc393f"
      },
      "execution_count": 62,
      "outputs": [
        {
          "output_type": "stream",
          "name": "stdout",
          "text": [
            "1/1 [==============================] - 0s 78ms/step\n"
          ]
        }
      ]
    },
    {
      "cell_type": "code",
      "source": [
        "for idx in range(len(func_model.layers)):\n",
        "  print(func_model.get_layer(index = idx).name)\n",
        "\n",
        "# we picked `block5c_project_con` layer"
      ],
      "metadata": {
        "colab": {
          "base_uri": "https://localhost:8080/"
        },
        "id": "7bnFr9vuuaue",
        "outputId": "e7f1885b-5091-495d-8b3a-60238a675621"
      },
      "execution_count": 63,
      "outputs": [
        {
          "output_type": "stream",
          "name": "stdout",
          "text": [
            "input_4\n",
            "rescaling_6\n",
            "normalization_3\n",
            "rescaling_7\n",
            "stem_conv_pad\n",
            "stem_conv\n",
            "stem_bn\n",
            "stem_activation\n",
            "block1a_dwconv\n",
            "block1a_bn\n",
            "block1a_activation\n",
            "block1a_se_squeeze\n",
            "block1a_se_reshape\n",
            "block1a_se_reduce\n",
            "block1a_se_expand\n",
            "block1a_se_excite\n",
            "block1a_project_conv\n",
            "block1a_project_bn\n",
            "block2a_expand_conv\n",
            "block2a_expand_bn\n",
            "block2a_expand_activation\n",
            "block2a_dwconv_pad\n",
            "block2a_dwconv\n",
            "block2a_bn\n",
            "block2a_activation\n",
            "block2a_se_squeeze\n",
            "block2a_se_reshape\n",
            "block2a_se_reduce\n",
            "block2a_se_expand\n",
            "block2a_se_excite\n",
            "block2a_project_conv\n",
            "block2a_project_bn\n",
            "block2b_expand_conv\n",
            "block2b_expand_bn\n",
            "block2b_expand_activation\n",
            "block2b_dwconv\n",
            "block2b_bn\n",
            "block2b_activation\n",
            "block2b_se_squeeze\n",
            "block2b_se_reshape\n",
            "block2b_se_reduce\n",
            "block2b_se_expand\n",
            "block2b_se_excite\n",
            "block2b_project_conv\n",
            "block2b_project_bn\n",
            "block2b_drop\n",
            "block2b_add\n",
            "block3a_expand_conv\n",
            "block3a_expand_bn\n",
            "block3a_expand_activation\n",
            "block3a_dwconv_pad\n",
            "block3a_dwconv\n",
            "block3a_bn\n",
            "block3a_activation\n",
            "block3a_se_squeeze\n",
            "block3a_se_reshape\n",
            "block3a_se_reduce\n",
            "block3a_se_expand\n",
            "block3a_se_excite\n",
            "block3a_project_conv\n",
            "block3a_project_bn\n",
            "block3b_expand_conv\n",
            "block3b_expand_bn\n",
            "block3b_expand_activation\n",
            "block3b_dwconv\n",
            "block3b_bn\n",
            "block3b_activation\n",
            "block3b_se_squeeze\n",
            "block3b_se_reshape\n",
            "block3b_se_reduce\n",
            "block3b_se_expand\n",
            "block3b_se_excite\n",
            "block3b_project_conv\n",
            "block3b_project_bn\n",
            "block3b_drop\n",
            "block3b_add\n",
            "block4a_expand_conv\n",
            "block4a_expand_bn\n",
            "block4a_expand_activation\n",
            "block4a_dwconv_pad\n",
            "block4a_dwconv\n",
            "block4a_bn\n",
            "block4a_activation\n",
            "block4a_se_squeeze\n",
            "block4a_se_reshape\n",
            "block4a_se_reduce\n",
            "block4a_se_expand\n",
            "block4a_se_excite\n",
            "block4a_project_conv\n",
            "block4a_project_bn\n",
            "block4b_expand_conv\n",
            "block4b_expand_bn\n",
            "block4b_expand_activation\n",
            "block4b_dwconv\n",
            "block4b_bn\n",
            "block4b_activation\n",
            "block4b_se_squeeze\n",
            "block4b_se_reshape\n",
            "block4b_se_reduce\n",
            "block4b_se_expand\n",
            "block4b_se_excite\n",
            "block4b_project_conv\n",
            "block4b_project_bn\n",
            "block4b_drop\n",
            "block4b_add\n",
            "block4c_expand_conv\n",
            "block4c_expand_bn\n",
            "block4c_expand_activation\n",
            "block4c_dwconv\n",
            "block4c_bn\n",
            "block4c_activation\n",
            "block4c_se_squeeze\n",
            "block4c_se_reshape\n",
            "block4c_se_reduce\n",
            "block4c_se_expand\n",
            "block4c_se_excite\n",
            "block4c_project_conv\n",
            "block4c_project_bn\n",
            "block4c_drop\n",
            "block4c_add\n",
            "block5a_expand_conv\n",
            "block5a_expand_bn\n",
            "block5a_expand_activation\n",
            "block5a_dwconv\n",
            "block5a_bn\n",
            "block5a_activation\n",
            "block5a_se_squeeze\n",
            "block5a_se_reshape\n",
            "block5a_se_reduce\n",
            "block5a_se_expand\n",
            "block5a_se_excite\n",
            "block5a_project_conv\n",
            "block5a_project_bn\n",
            "block5b_expand_conv\n",
            "block5b_expand_bn\n",
            "block5b_expand_activation\n",
            "block5b_dwconv\n",
            "block5b_bn\n",
            "block5b_activation\n",
            "block5b_se_squeeze\n",
            "block5b_se_reshape\n",
            "block5b_se_reduce\n",
            "block5b_se_expand\n",
            "block5b_se_excite\n",
            "block5b_project_conv\n",
            "block5b_project_bn\n",
            "block5b_drop\n",
            "block5b_add\n",
            "block5c_expand_conv\n",
            "block5c_expand_bn\n",
            "block5c_expand_activation\n",
            "block5c_dwconv\n",
            "block5c_bn\n",
            "block5c_activation\n",
            "block5c_se_squeeze\n",
            "block5c_se_reshape\n",
            "block5c_se_reduce\n",
            "block5c_se_expand\n",
            "block5c_se_excite\n",
            "block5c_project_conv\n",
            "block5c_project_bn\n",
            "block5c_drop\n",
            "block5c_add\n",
            "block6a_expand_conv\n",
            "block6a_expand_bn\n",
            "block6a_expand_activation\n",
            "block6a_dwconv_pad\n",
            "block6a_dwconv\n",
            "block6a_bn\n",
            "block6a_activation\n",
            "block6a_se_squeeze\n",
            "block6a_se_reshape\n",
            "block6a_se_reduce\n",
            "block6a_se_expand\n",
            "block6a_se_excite\n",
            "block6a_project_conv\n",
            "block6a_project_bn\n",
            "block6b_expand_conv\n",
            "block6b_expand_bn\n",
            "block6b_expand_activation\n",
            "block6b_dwconv\n",
            "block6b_bn\n",
            "block6b_activation\n",
            "block6b_se_squeeze\n",
            "block6b_se_reshape\n",
            "block6b_se_reduce\n",
            "block6b_se_expand\n",
            "block6b_se_excite\n",
            "block6b_project_conv\n",
            "block6b_project_bn\n",
            "block6b_drop\n",
            "block6b_add\n",
            "block6c_expand_conv\n",
            "block6c_expand_bn\n",
            "block6c_expand_activation\n",
            "block6c_dwconv\n",
            "block6c_bn\n",
            "block6c_activation\n",
            "block6c_se_squeeze\n",
            "block6c_se_reshape\n",
            "block6c_se_reduce\n",
            "block6c_se_expand\n",
            "block6c_se_excite\n",
            "block6c_project_conv\n",
            "block6c_project_bn\n",
            "block6c_drop\n",
            "block6c_add\n",
            "block6d_expand_conv\n",
            "block6d_expand_bn\n",
            "block6d_expand_activation\n",
            "block6d_dwconv\n",
            "block6d_bn\n",
            "block6d_activation\n",
            "block6d_se_squeeze\n",
            "block6d_se_reshape\n",
            "block6d_se_reduce\n",
            "block6d_se_expand\n",
            "block6d_se_excite\n",
            "block6d_project_conv\n",
            "block6d_project_bn\n",
            "block6d_drop\n",
            "block6d_add\n",
            "block7a_expand_conv\n",
            "block7a_expand_bn\n",
            "block7a_expand_activation\n",
            "block7a_dwconv\n",
            "block7a_bn\n",
            "block7a_activation\n",
            "block7a_se_squeeze\n",
            "block7a_se_reshape\n",
            "block7a_se_reduce\n",
            "block7a_se_expand\n",
            "block7a_se_excite\n",
            "block7a_project_conv\n",
            "block7a_project_bn\n",
            "top_conv\n",
            "top_bn\n",
            "top_activation\n",
            "global_max_pooling2d_3\n",
            "dense_3\n"
          ]
        }
      ]
    },
    {
      "cell_type": "code",
      "source": [
        "icam = GradCAM(func_model, i, 'block5c_project_conv')\n",
        "heatmap = icam.compute_heatmap(image)\n",
        "heatmap = cv2.resize(heatmap, (32, 32))\n",
        "\n",
        "image = cv2.imread('/content/dog_1.jpg')\n",
        "image = cv2.resize(image, (32, 32))\n",
        "print(heatmap.shape, image.shape)\n",
        "\n",
        "(heatmap, output) = icam.overlay_heatmap(heatmap, image, alpha=0.5)"
      ],
      "metadata": {
        "colab": {
          "base_uri": "https://localhost:8080/"
        },
        "id": "fh4b-t1iudem",
        "outputId": "c1f35500-2ec3-4ec5-cf2b-945f4e3b921f"
      },
      "execution_count": 64,
      "outputs": [
        {
          "output_type": "stream",
          "name": "stdout",
          "text": [
            "(32, 32) (32, 32, 3)\n"
          ]
        }
      ]
    },
    {
      "cell_type": "markdown",
      "source": [
        "## **Visualisation**"
      ],
      "metadata": {
        "id": "DGFkmxj5ufzw"
      }
    },
    {
      "cell_type": "code",
      "source": [
        "import matplotlib.pyplot as plt\n",
        "\n",
        "# Get the class label corresponding to the highest predicted probability\n",
        "predicted_label = np.argmax(preds[0])\n",
        "\n",
        "# Display the predicted label along with the heatmap visualization\n",
        "fig, ax = plt.subplots(1, 3, figsize=(10, 5))  # Increase the figure size here\n",
        "\n",
        "ax[0].imshow(heatmap)\n",
        "ax[0].set_title('Heatmap')\n",
        "\n",
        "ax[1].imshow(image)\n",
        "ax[1].set_title('Original Image')\n",
        "\n",
        "ax[2].imshow(output)\n",
        "ax[2].set_title('Superimposed Image')\n",
        "\n",
        "plt.show()\n"
      ],
      "metadata": {
        "colab": {
          "base_uri": "https://localhost:8080/",
          "height": 310
        },
        "id": "o8VihiPxujDe",
        "outputId": "30131ac3-2253-488c-f644-a155712c7a28"
      },
      "execution_count": 65,
      "outputs": [
        {
          "output_type": "display_data",
          "data": {
            "text/plain": [
              "<Figure size 1000x500 with 3 Axes>"
            ],
            "image/png": "[encoded data removed]"
          },
          "metadata": {}
        }
      ]
    }
  ]
}