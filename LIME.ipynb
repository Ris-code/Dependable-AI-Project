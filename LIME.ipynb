{
 "cells": [
  {
   "cell_type": "markdown",
   "id": "fc9f6552-64b8-493d-b994-d41cee4f8649",
   "metadata": {},
   "source": [
    "---\n",
    "### Importing libraries"
   ]
  },
  {
   "cell_type": "code",
   "execution_count": 1,
   "id": "6a88175b-a4cd-4a5c-8dbd-a6df8a42554e",
   "metadata": {
    "tags": []
   },
   "outputs": [],
   "source": [
    "import numpy as np\n",
    "import pandas as pd\n",
    "import matplotlib.pyplot as plt\n",
    "import math"
   ]
  },
  {
   "cell_type": "code",
   "execution_count": 2,
   "id": "0ae5000c-7ad9-4392-a4f6-0ef23fe2c2c4",
   "metadata": {
    "tags": []
   },
   "outputs": [],
   "source": [
    "from xgboost import XGBRegressor"
   ]
  },
  {
   "cell_type": "code",
   "execution_count": 3,
   "id": "6611d4da-f07c-4667-b51b-4f756d4d0463",
   "metadata": {},
   "outputs": [],
   "source": [
    "from sklearn.linear_model import Lasso\n",
    "from sklearn.linear_model import LinearRegression\n",
    "from sklearn.tree import DecisionTreeRegressor, plot_tree\n",
    "from sklearn.preprocessing import StandardScaler"
   ]
  },
  {
   "cell_type": "markdown",
   "id": "cc5f3bd2-b4a8-4081-8943-7b2de1dd370a",
   "metadata": {},
   "source": [
    "---\n",
    "### Loading the dataset"
   ]
  },
  {
   "cell_type": "code",
   "execution_count": 4,
   "id": "7dd8e752-4b33-4a40-9c91-a4a2d9dcce5c",
   "metadata": {
    "tags": []
   },
   "outputs": [
    {
     "data": {
      "text/html": [
       "<div>\n",
       "<style scoped>\n",
       "    .dataframe tbody tr th:only-of-type {\n",
       "        vertical-align: middle;\n",
       "    }\n",
       "\n",
       "    .dataframe tbody tr th {\n",
       "        vertical-align: top;\n",
       "    }\n",
       "\n",
       "    .dataframe thead th {\n",
       "        text-align: right;\n",
       "    }\n",
       "</style>\n",
       "<table border=\"1\" class=\"dataframe\">\n",
       "  <thead>\n",
       "    <tr style=\"text-align: right;\">\n",
       "      <th></th>\n",
       "      <th>CRIM</th>\n",
       "      <th>ZN</th>\n",
       "      <th>INDUS</th>\n",
       "      <th>CHAS</th>\n",
       "      <th>NOX</th>\n",
       "      <th>RM</th>\n",
       "      <th>AGE</th>\n",
       "      <th>DIS</th>\n",
       "      <th>RAD</th>\n",
       "      <th>TAX</th>\n",
       "      <th>PTRATIO</th>\n",
       "      <th>B</th>\n",
       "      <th>LSTAT</th>\n",
       "      <th>MEDV</th>\n",
       "    </tr>\n",
       "  </thead>\n",
       "  <tbody>\n",
       "    <tr>\n",
       "      <th>0</th>\n",
       "      <td>0.00632</td>\n",
       "      <td>18.0</td>\n",
       "      <td>2.31</td>\n",
       "      <td>0.0</td>\n",
       "      <td>0.538</td>\n",
       "      <td>6.575</td>\n",
       "      <td>65.2</td>\n",
       "      <td>4.0900</td>\n",
       "      <td>1</td>\n",
       "      <td>296</td>\n",
       "      <td>15.3</td>\n",
       "      <td>396.90</td>\n",
       "      <td>4.98</td>\n",
       "      <td>24.0</td>\n",
       "    </tr>\n",
       "    <tr>\n",
       "      <th>1</th>\n",
       "      <td>0.02731</td>\n",
       "      <td>0.0</td>\n",
       "      <td>7.07</td>\n",
       "      <td>0.0</td>\n",
       "      <td>0.469</td>\n",
       "      <td>6.421</td>\n",
       "      <td>78.9</td>\n",
       "      <td>4.9671</td>\n",
       "      <td>2</td>\n",
       "      <td>242</td>\n",
       "      <td>17.8</td>\n",
       "      <td>396.90</td>\n",
       "      <td>9.14</td>\n",
       "      <td>21.6</td>\n",
       "    </tr>\n",
       "    <tr>\n",
       "      <th>2</th>\n",
       "      <td>0.02729</td>\n",
       "      <td>0.0</td>\n",
       "      <td>7.07</td>\n",
       "      <td>0.0</td>\n",
       "      <td>0.469</td>\n",
       "      <td>7.185</td>\n",
       "      <td>61.1</td>\n",
       "      <td>4.9671</td>\n",
       "      <td>2</td>\n",
       "      <td>242</td>\n",
       "      <td>17.8</td>\n",
       "      <td>392.83</td>\n",
       "      <td>4.03</td>\n",
       "      <td>34.7</td>\n",
       "    </tr>\n",
       "    <tr>\n",
       "      <th>3</th>\n",
       "      <td>0.03237</td>\n",
       "      <td>0.0</td>\n",
       "      <td>2.18</td>\n",
       "      <td>0.0</td>\n",
       "      <td>0.458</td>\n",
       "      <td>6.998</td>\n",
       "      <td>45.8</td>\n",
       "      <td>6.0622</td>\n",
       "      <td>3</td>\n",
       "      <td>222</td>\n",
       "      <td>18.7</td>\n",
       "      <td>394.63</td>\n",
       "      <td>2.94</td>\n",
       "      <td>33.4</td>\n",
       "    </tr>\n",
       "    <tr>\n",
       "      <th>4</th>\n",
       "      <td>0.06905</td>\n",
       "      <td>0.0</td>\n",
       "      <td>2.18</td>\n",
       "      <td>0.0</td>\n",
       "      <td>0.458</td>\n",
       "      <td>7.147</td>\n",
       "      <td>54.2</td>\n",
       "      <td>6.0622</td>\n",
       "      <td>3</td>\n",
       "      <td>222</td>\n",
       "      <td>18.7</td>\n",
       "      <td>396.90</td>\n",
       "      <td>NaN</td>\n",
       "      <td>36.2</td>\n",
       "    </tr>\n",
       "  </tbody>\n",
       "</table>\n",
       "</div>"
      ],
      "text/plain": [
       "      CRIM    ZN  INDUS  CHAS    NOX     RM   AGE     DIS  RAD  TAX  PTRATIO   \n",
       "0  0.00632  18.0   2.31   0.0  0.538  6.575  65.2  4.0900    1  296     15.3  \\\n",
       "1  0.02731   0.0   7.07   0.0  0.469  6.421  78.9  4.9671    2  242     17.8   \n",
       "2  0.02729   0.0   7.07   0.0  0.469  7.185  61.1  4.9671    2  242     17.8   \n",
       "3  0.03237   0.0   2.18   0.0  0.458  6.998  45.8  6.0622    3  222     18.7   \n",
       "4  0.06905   0.0   2.18   0.0  0.458  7.147  54.2  6.0622    3  222     18.7   \n",
       "\n",
       "        B  LSTAT  MEDV  \n",
       "0  396.90   4.98  24.0  \n",
       "1  396.90   9.14  21.6  \n",
       "2  392.83   4.03  34.7  \n",
       "3  394.63   2.94  33.4  \n",
       "4  396.90    NaN  36.2  "
      ]
     },
     "execution_count": 4,
     "metadata": {},
     "output_type": "execute_result"
    }
   ],
   "source": [
    "df = pd.read_csv('boston.csv')\n",
    "df.head()"
   ]
  },
  {
   "cell_type": "code",
   "execution_count": 5,
   "id": "b01b2256-f471-4e33-9410-60c1fafc3ac3",
   "metadata": {
    "tags": []
   },
   "outputs": [
    {
     "name": "stdout",
     "output_type": "stream",
     "text": [
      "<class 'pandas.core.frame.DataFrame'>\n",
      "RangeIndex: 506 entries, 0 to 505\n",
      "Data columns (total 14 columns):\n",
      " #   Column   Non-Null Count  Dtype  \n",
      "---  ------   --------------  -----  \n",
      " 0   CRIM     486 non-null    float64\n",
      " 1   ZN       486 non-null    float64\n",
      " 2   INDUS    486 non-null    float64\n",
      " 3   CHAS     486 non-null    float64\n",
      " 4   NOX      506 non-null    float64\n",
      " 5   RM       506 non-null    float64\n",
      " 6   AGE      486 non-null    float64\n",
      " 7   DIS      506 non-null    float64\n",
      " 8   RAD      506 non-null    int64  \n",
      " 9   TAX      506 non-null    int64  \n",
      " 10  PTRATIO  506 non-null    float64\n",
      " 11  B        506 non-null    float64\n",
      " 12  LSTAT    486 non-null    float64\n",
      " 13  MEDV     506 non-null    float64\n",
      "dtypes: float64(12), int64(2)\n",
      "memory usage: 55.5 KB\n"
     ]
    }
   ],
   "source": [
    "df.info()"
   ]
  },
  {
   "cell_type": "code",
   "execution_count": 6,
   "id": "a69daf3a-d448-4e31-b3fa-7af4fa12dd2b",
   "metadata": {},
   "outputs": [],
   "source": [
    "df.dropna(axis=0, inplace=True)\n",
    "df.reset_index(drop=True, inplace=True)"
   ]
  },
  {
   "cell_type": "code",
   "execution_count": 7,
   "id": "e42b5082-fc22-45a6-9d8b-cea07597b835",
   "metadata": {
    "tags": []
   },
   "outputs": [
    {
     "data": {
      "image/png": "[encoded data removed]",
      "text/plain": [
       "<Figure size 1100x1100 with 16 Axes>"
      ]
     },
     "metadata": {},
     "output_type": "display_data"
    }
   ],
   "source": [
    "df.hist(figsize=(11,11))\n",
    "plt.show()"
   ]
  },
  {
   "cell_type": "code",
   "execution_count": 8,
   "id": "c138728d-43ea-4e99-b957-da7a413b5a27",
   "metadata": {
    "tags": []
   },
   "outputs": [],
   "source": [
    "selected_features = ['AGE', 'RAD', 'TAX', 'DIS', 'RM',\n",
    "                     'LSTAT', 'B', 'INDUS', 'CHAS']"
   ]
  },
  {
   "cell_type": "code",
   "execution_count": 9,
   "id": "a43ee5e0-6227-49ae-9c0c-3c636dd68b44",
   "metadata": {
    "tags": []
   },
   "outputs": [],
   "source": [
    "X = df[selected_features]\n",
    "y = df.MEDV"
   ]
  },
  {
   "cell_type": "code",
   "execution_count": 10,
   "id": "ba086b7d-3e76-4195-8b72-7d7d1cfa81bb",
   "metadata": {
    "tags": []
   },
   "outputs": [
    {
     "data": {
      "text/html": [
       "<div>\n",
       "<style scoped>\n",
       "    .dataframe tbody tr th:only-of-type {\n",
       "        vertical-align: middle;\n",
       "    }\n",
       "\n",
       "    .dataframe tbody tr th {\n",
       "        vertical-align: top;\n",
       "    }\n",
       "\n",
       "    .dataframe thead th {\n",
       "        text-align: right;\n",
       "    }\n",
       "</style>\n",
       "<table border=\"1\" class=\"dataframe\">\n",
       "  <thead>\n",
       "    <tr style=\"text-align: right;\">\n",
       "      <th></th>\n",
       "      <th>AGE</th>\n",
       "      <th>RAD</th>\n",
       "      <th>TAX</th>\n",
       "      <th>DIS</th>\n",
       "      <th>RM</th>\n",
       "      <th>LSTAT</th>\n",
       "      <th>B</th>\n",
       "      <th>INDUS</th>\n",
       "      <th>CHAS</th>\n",
       "    </tr>\n",
       "  </thead>\n",
       "  <tbody>\n",
       "    <tr>\n",
       "      <th>0</th>\n",
       "      <td>65.2</td>\n",
       "      <td>1</td>\n",
       "      <td>296</td>\n",
       "      <td>4.0900</td>\n",
       "      <td>6.575</td>\n",
       "      <td>4.98</td>\n",
       "      <td>396.90</td>\n",
       "      <td>2.31</td>\n",
       "      <td>0.0</td>\n",
       "    </tr>\n",
       "    <tr>\n",
       "      <th>1</th>\n",
       "      <td>78.9</td>\n",
       "      <td>2</td>\n",
       "      <td>242</td>\n",
       "      <td>4.9671</td>\n",
       "      <td>6.421</td>\n",
       "      <td>9.14</td>\n",
       "      <td>396.90</td>\n",
       "      <td>7.07</td>\n",
       "      <td>0.0</td>\n",
       "    </tr>\n",
       "    <tr>\n",
       "      <th>2</th>\n",
       "      <td>61.1</td>\n",
       "      <td>2</td>\n",
       "      <td>242</td>\n",
       "      <td>4.9671</td>\n",
       "      <td>7.185</td>\n",
       "      <td>4.03</td>\n",
       "      <td>392.83</td>\n",
       "      <td>7.07</td>\n",
       "      <td>0.0</td>\n",
       "    </tr>\n",
       "    <tr>\n",
       "      <th>3</th>\n",
       "      <td>45.8</td>\n",
       "      <td>3</td>\n",
       "      <td>222</td>\n",
       "      <td>6.0622</td>\n",
       "      <td>6.998</td>\n",
       "      <td>2.94</td>\n",
       "      <td>394.63</td>\n",
       "      <td>2.18</td>\n",
       "      <td>0.0</td>\n",
       "    </tr>\n",
       "    <tr>\n",
       "      <th>4</th>\n",
       "      <td>58.7</td>\n",
       "      <td>3</td>\n",
       "      <td>222</td>\n",
       "      <td>6.0622</td>\n",
       "      <td>6.430</td>\n",
       "      <td>5.21</td>\n",
       "      <td>394.12</td>\n",
       "      <td>2.18</td>\n",
       "      <td>0.0</td>\n",
       "    </tr>\n",
       "  </tbody>\n",
       "</table>\n",
       "</div>"
      ],
      "text/plain": [
       "    AGE  RAD  TAX     DIS     RM  LSTAT       B  INDUS  CHAS\n",
       "0  65.2    1  296  4.0900  6.575   4.98  396.90   2.31   0.0\n",
       "1  78.9    2  242  4.9671  6.421   9.14  396.90   7.07   0.0\n",
       "2  61.1    2  242  4.9671  7.185   4.03  392.83   7.07   0.0\n",
       "3  45.8    3  222  6.0622  6.998   2.94  394.63   2.18   0.0\n",
       "4  58.7    3  222  6.0622  6.430   5.21  394.12   2.18   0.0"
      ]
     },
     "execution_count": 10,
     "metadata": {},
     "output_type": "execute_result"
    }
   ],
   "source": [
    "X.head()"
   ]
  },
  {
   "cell_type": "code",
   "execution_count": 11,
   "id": "f6338d61-3b97-49b2-9b14-5904b4a3ae30",
   "metadata": {
    "tags": []
   },
   "outputs": [
    {
     "data": {
      "text/plain": [
       "0    24.0\n",
       "1    21.6\n",
       "2    34.7\n",
       "3    33.4\n",
       "4    28.7\n",
       "Name: MEDV, dtype: float64"
      ]
     },
     "execution_count": 11,
     "metadata": {},
     "output_type": "execute_result"
    }
   ],
   "source": [
    "y.head()"
   ]
  },
  {
   "cell_type": "code",
   "execution_count": 12,
   "id": "f01e599c-bffc-4d23-9ff5-cf59cf45b827",
   "metadata": {
    "tags": []
   },
   "outputs": [],
   "source": [
    "X_scaled = pd.DataFrame(StandardScaler().fit_transform(X), columns=X.columns)"
   ]
  },
  {
   "cell_type": "code",
   "execution_count": 13,
   "id": "40c61bd1-41a3-413d-9489-9832ff56254a",
   "metadata": {
    "tags": []
   },
   "outputs": [
    {
     "data": {
      "text/html": [
       "<div>\n",
       "<style scoped>\n",
       "    .dataframe tbody tr th:only-of-type {\n",
       "        vertical-align: middle;\n",
       "    }\n",
       "\n",
       "    .dataframe tbody tr th {\n",
       "        vertical-align: top;\n",
       "    }\n",
       "\n",
       "    .dataframe thead th {\n",
       "        text-align: right;\n",
       "    }\n",
       "</style>\n",
       "<table border=\"1\" class=\"dataframe\">\n",
       "  <thead>\n",
       "    <tr style=\"text-align: right;\">\n",
       "      <th></th>\n",
       "      <th>AGE</th>\n",
       "      <th>RAD</th>\n",
       "      <th>TAX</th>\n",
       "      <th>DIS</th>\n",
       "      <th>RM</th>\n",
       "      <th>LSTAT</th>\n",
       "      <th>B</th>\n",
       "      <th>INDUS</th>\n",
       "      <th>CHAS</th>\n",
       "    </tr>\n",
       "  </thead>\n",
       "  <tbody>\n",
       "    <tr>\n",
       "      <th>0</th>\n",
       "      <td>-0.134014</td>\n",
       "      <td>-0.974609</td>\n",
       "      <td>-0.656944</td>\n",
       "      <td>0.135851</td>\n",
       "      <td>0.423161</td>\n",
       "      <td>-1.067126</td>\n",
       "      <td>0.430740</td>\n",
       "      <td>-1.259620</td>\n",
       "      <td>-0.271237</td>\n",
       "    </tr>\n",
       "    <tr>\n",
       "      <th>1</th>\n",
       "      <td>0.357849</td>\n",
       "      <td>-0.858633</td>\n",
       "      <td>-0.978184</td>\n",
       "      <td>0.554334</td>\n",
       "      <td>0.202245</td>\n",
       "      <td>-0.497196</td>\n",
       "      <td>0.430740</td>\n",
       "      <td>-0.569724</td>\n",
       "      <td>-0.271237</td>\n",
       "    </tr>\n",
       "    <tr>\n",
       "      <th>2</th>\n",
       "      <td>-0.281214</td>\n",
       "      <td>-0.858633</td>\n",
       "      <td>-0.978184</td>\n",
       "      <td>0.554334</td>\n",
       "      <td>1.298216</td>\n",
       "      <td>-1.197278</td>\n",
       "      <td>0.385097</td>\n",
       "      <td>-0.569724</td>\n",
       "      <td>-0.271237</td>\n",
       "    </tr>\n",
       "    <tr>\n",
       "      <th>3</th>\n",
       "      <td>-0.830521</td>\n",
       "      <td>-0.742657</td>\n",
       "      <td>-1.097162</td>\n",
       "      <td>1.076829</td>\n",
       "      <td>1.029962</td>\n",
       "      <td>-1.346610</td>\n",
       "      <td>0.405283</td>\n",
       "      <td>-1.278462</td>\n",
       "      <td>-0.271237</td>\n",
       "    </tr>\n",
       "    <tr>\n",
       "      <th>4</th>\n",
       "      <td>-0.367380</td>\n",
       "      <td>-0.742657</td>\n",
       "      <td>-1.097162</td>\n",
       "      <td>1.076829</td>\n",
       "      <td>0.215156</td>\n",
       "      <td>-1.035615</td>\n",
       "      <td>0.399564</td>\n",
       "      <td>-1.278462</td>\n",
       "      <td>-0.271237</td>\n",
       "    </tr>\n",
       "  </tbody>\n",
       "</table>\n",
       "</div>"
      ],
      "text/plain": [
       "        AGE       RAD       TAX       DIS        RM     LSTAT         B   \n",
       "0 -0.134014 -0.974609 -0.656944  0.135851  0.423161 -1.067126  0.430740  \\\n",
       "1  0.357849 -0.858633 -0.978184  0.554334  0.202245 -0.497196  0.430740   \n",
       "2 -0.281214 -0.858633 -0.978184  0.554334  1.298216 -1.197278  0.385097   \n",
       "3 -0.830521 -0.742657 -1.097162  1.076829  1.029962 -1.346610  0.405283   \n",
       "4 -0.367380 -0.742657 -1.097162  1.076829  0.215156 -1.035615  0.399564   \n",
       "\n",
       "      INDUS      CHAS  \n",
       "0 -1.259620 -0.271237  \n",
       "1 -0.569724 -0.271237  \n",
       "2 -0.569724 -0.271237  \n",
       "3 -1.278462 -0.271237  \n",
       "4 -1.278462 -0.271237  "
      ]
     },
     "execution_count": 13,
     "metadata": {},
     "output_type": "execute_result"
    }
   ],
   "source": [
    "X_scaled.head()"
   ]
  },
  {
   "cell_type": "markdown",
   "id": "27f7ecdd-fe94-4fec-aae6-d10f9833fb81",
   "metadata": {},
   "source": [
    "---\n",
    "### LIME Implementation"
   ]
  },
  {
   "cell_type": "code",
   "execution_count": 14,
   "id": "cd4b30e6-f48f-44ce-98b7-3f9b39003796",
   "metadata": {
    "tags": []
   },
   "outputs": [],
   "source": [
    "def generate_perturbed_samples(data_point, num_samples, scale):\n",
    "    data_point = np.array(data_point)\n",
    "    num_features = data_point.shape[0]\n",
    "    \n",
    "    perturbations = np.random.normal(0, 1, (num_samples, num_features))\n",
    "    perturbed_samples = data_point + scale*perturbations\n",
    "    \n",
    "    return perturbed_samples"
   ]
  },
  {
   "cell_type": "code",
   "execution_count": 15,
   "id": "b41b36c8-93c3-467f-b82d-01d2e00cda02",
   "metadata": {},
   "outputs": [],
   "source": [
    "interpretable_models = [Lasso(alpha=0.3),\n",
    "                        Lasso(alpha=0.7),\n",
    "                        DecisionTreeRegressor(max_depth=2),\n",
    "                        DecisionTreeRegressor(max_depth=3),\n",
    "                        DecisionTreeRegressor(max_depth=4),\n",
    "                        DecisionTreeRegressor()\n",
    "                       ]"
   ]
  },
  {
   "cell_type": "code",
   "execution_count": 16,
   "id": "b26745a4-bd51-48d2-9081-31fa1d94ff01",
   "metadata": {
    "tags": []
   },
   "outputs": [],
   "source": [
    "def calculate_penalty(model):\n",
    "    if isinstance(model, DecisionTreeRegressor):\n",
    "        return model.get_depth()\n",
    "    return np.count_nonzero(model.coef_)"
   ]
  },
  {
   "cell_type": "code",
   "execution_count": 17,
   "id": "4a065c13-22be-43aa-8a26-83d91006137a",
   "metadata": {
    "tags": []
   },
   "outputs": [],
   "source": [
    "def calculate_proximity(x, z, sigma):\n",
    "    d = np.linalg.norm(x - z)\n",
    "    # return math.exp(-(d/sigma)**2)\n",
    "    return 1/d + 1e-8"
   ]
  },
  {
   "cell_type": "code",
   "execution_count": 18,
   "id": "36dcf2cb-ce2d-4495-9074-2fd0638fdf87",
   "metadata": {
    "tags": []
   },
   "outputs": [],
   "source": [
    "def calculate_loss(X, y, trained_complex_model, interpretable_model, num_samples, perturb_scale, prox_sigma):    \n",
    "    cm = trained_complex_model\n",
    "    im = interpretable_model\n",
    "    im.fit(X.values, y)\n",
    "    \n",
    "    l = 0\n",
    "\n",
    "    for x in X.values:\n",
    "        for z in generate_perturbed_samples(x, num_samples=num_samples, scale=perturb_scale):\n",
    "            prox = calculate_proximity(x, z, prox_sigma)\n",
    "            pena = calculate_penalty(im)\n",
    "            l += (cm.predict(np.array([z])) - im.predict(np.array([z]))[0])**2 * prox + pena\n",
    "            \n",
    "    return im, l/(X.shape[0]*num_samples)"
   ]
  },
  {
   "cell_type": "code",
   "execution_count": 19,
   "id": "9da93bff-cd29-4527-9052-d4e196640896",
   "metadata": {
    "tags": []
   },
   "outputs": [],
   "source": [
    "def return_lime_results(X, y, complex_model, interpretable_models, num_samples=50, perturb_scale=2, prox_sigma=0.1):\n",
    "    cm = complex_model\n",
    "    cm.fit(X, y)\n",
    "    \n",
    "    min_loss = float('inf')\n",
    "    best_model = None\n",
    "    \n",
    "    loss_data = []\n",
    "    for im in interpretable_models:\n",
    "        print('computing...')\n",
    "        trained_im, l = calculate_loss(X, y, cm, im, num_samples, perturb_scale, prox_sigma)\n",
    "        if l[0] < min_loss:\n",
    "            best_model = trained_im\n",
    "            min_loss = l[0]\n",
    "        loss_data.append((trained_im,l[0]))\n",
    "    \n",
    "    print('completed successfully!')\n",
    "    return best_model, loss_data"
   ]
  },
  {
   "cell_type": "markdown",
   "id": "3fb8b8e8-c9ee-40f5-aa76-84df46f5885d",
   "metadata": {
    "tags": []
   },
   "source": [
    "---\n",
    "### Applying LIME"
   ]
  },
  {
   "cell_type": "code",
   "execution_count": 25,
   "id": "f38499fb-731a-4218-a199-66f9acf1e3da",
   "metadata": {},
   "outputs": [
    {
     "name": "stdout",
     "output_type": "stream",
     "text": [
      "computing...\n",
      "computing...\n",
      "computing...\n",
      "computing...\n",
      "computing...\n",
      "computing...\n",
      "completed successfully!\n"
     ]
    }
   ],
   "source": [
    "best_model, loss_data = return_lime_results(X_scaled[:100], y[:100], XGBRegressor(), interpretable_models)"
   ]
  },
  {
   "cell_type": "code",
   "execution_count": 26,
   "id": "50c920f1-00ba-4662-a1aa-3d99f1df35e2",
   "metadata": {
    "tags": []
   },
   "outputs": [
    {
     "data": {
      "text/plain": [
       "[(Lasso(alpha=0.3), 16.105772),\n",
       " (Lasso(alpha=0.7), 10.975143),\n",
       " (DecisionTreeRegressor(max_depth=2), 6.952047),\n",
       " (DecisionTreeRegressor(max_depth=3), 9.172586),\n",
       " (DecisionTreeRegressor(max_depth=4), 10.162239),\n",
       " (DecisionTreeRegressor(), 18.816906)]"
      ]
     },
     "execution_count": 26,
     "metadata": {},
     "output_type": "execute_result"
    }
   ],
   "source": [
    "loss_data"
   ]
  },
  {
   "cell_type": "code",
   "execution_count": 27,
   "id": "88cf2bf0-d504-4493-8f2c-77060b34a5c9",
   "metadata": {},
   "outputs": [
    {
     "data": {
      "text/html": [
       "<style>#sk-container-id-2 {color: black;}#sk-container-id-2 pre{padding: 0;}#sk-container-id-2 div.sk-toggleable {background-color: white;}#sk-container-id-2 label.sk-toggleable__label {cursor: pointer;display: block;width: 100%;margin-bottom: 0;padding: 0.3em;box-sizing: border-box;text-align: center;}#sk-container-id-2 label.sk-toggleable__label-arrow:before {content: \"▸\";float: left;margin-right: 0.25em;color: #696969;}#sk-container-id-2 label.sk-toggleable__label-arrow:hover:before {color: black;}#sk-container-id-2 div.sk-estimator:hover label.sk-toggleable__label-arrow:before {color: black;}#sk-container-id-2 div.sk-toggleable__content {max-height: 0;max-width: 0;overflow: hidden;text-align: left;background-color: #f0f8ff;}#sk-container-id-2 div.sk-toggleable__content pre {margin: 0.2em;color: black;border-radius: 0.25em;background-color: #f0f8ff;}#sk-container-id-2 input.sk-toggleable__control:checked~div.sk-toggleable__content {max-height: 200px;max-width: 100%;overflow: auto;}#sk-container-id-2 input.sk-toggleable__control:checked~label.sk-toggleable__label-arrow:before {content: \"▾\";}#sk-container-id-2 div.sk-estimator input.sk-toggleable__control:checked~label.sk-toggleable__label {background-color: #d4ebff;}#sk-container-id-2 div.sk-label input.sk-toggleable__control:checked~label.sk-toggleable__label {background-color: #d4ebff;}#sk-container-id-2 input.sk-hidden--visually {border: 0;clip: rect(1px 1px 1px 1px);clip: rect(1px, 1px, 1px, 1px);height: 1px;margin: -1px;overflow: hidden;padding: 0;position: absolute;width: 1px;}#sk-container-id-2 div.sk-estimator {font-family: monospace;background-color: #f0f8ff;border: 1px dotted black;border-radius: 0.25em;box-sizing: border-box;margin-bottom: 0.5em;}#sk-container-id-2 div.sk-estimator:hover {background-color: #d4ebff;}#sk-container-id-2 div.sk-parallel-item::after {content: \"\";width: 100%;border-bottom: 1px solid gray;flex-grow: 1;}#sk-container-id-2 div.sk-label:hover label.sk-toggleable__label {background-color: #d4ebff;}#sk-container-id-2 div.sk-serial::before {content: \"\";position: absolute;border-left: 1px solid gray;box-sizing: border-box;top: 0;bottom: 0;left: 50%;z-index: 0;}#sk-container-id-2 div.sk-serial {display: flex;flex-direction: column;align-items: center;background-color: white;padding-right: 0.2em;padding-left: 0.2em;position: relative;}#sk-container-id-2 div.sk-item {position: relative;z-index: 1;}#sk-container-id-2 div.sk-parallel {display: flex;align-items: stretch;justify-content: center;background-color: white;position: relative;}#sk-container-id-2 div.sk-item::before, #sk-container-id-2 div.sk-parallel-item::before {content: \"\";position: absolute;border-left: 1px solid gray;box-sizing: border-box;top: 0;bottom: 0;left: 50%;z-index: -1;}#sk-container-id-2 div.sk-parallel-item {display: flex;flex-direction: column;z-index: 1;position: relative;background-color: white;}#sk-container-id-2 div.sk-parallel-item:first-child::after {align-self: flex-end;width: 50%;}#sk-container-id-2 div.sk-parallel-item:last-child::after {align-self: flex-start;width: 50%;}#sk-container-id-2 div.sk-parallel-item:only-child::after {width: 0;}#sk-container-id-2 div.sk-dashed-wrapped {border: 1px dashed gray;margin: 0 0.4em 0.5em 0.4em;box-sizing: border-box;padding-bottom: 0.4em;background-color: white;}#sk-container-id-2 div.sk-label label {font-family: monospace;font-weight: bold;display: inline-block;line-height: 1.2em;}#sk-container-id-2 div.sk-label-container {text-align: center;}#sk-container-id-2 div.sk-container {/* jupyter's `normalize.less` sets `[hidden] { display: none; }` but bootstrap.min.css set `[hidden] { display: none !important; }` so we also need the `!important` here to be able to override the default hidden behavior on the sphinx rendered scikit-learn.org. See: https://github.com/scikit-learn/scikit-learn/issues/21755 */display: inline-block !important;position: relative;}#sk-container-id-2 div.sk-text-repr-fallback {display: none;}</style><div id=\"sk-container-id-2\" class=\"sk-top-container\"><div class=\"sk-text-repr-fallback\"><pre>DecisionTreeRegressor(max_depth=2)</pre><b>In a Jupyter environment, please rerun this cell to show the HTML representation or trust the notebook. <br />On GitHub, the HTML representation is unable to render, please try loading this page with nbviewer.org.</b></div><div class=\"sk-container\" hidden><div class=\"sk-item\"><div class=\"sk-estimator sk-toggleable\"><input class=\"sk-toggleable__control sk-hidden--visually\" id=\"sk-estimator-id-2\" type=\"checkbox\" checked><label for=\"sk-estimator-id-2\" class=\"sk-toggleable__label sk-toggleable__label-arrow\">DecisionTreeRegressor</label><div class=\"sk-toggleable__content\"><pre>DecisionTreeRegressor(max_depth=2)</pre></div></div></div></div></div>"
      ],
      "text/plain": [
       "DecisionTreeRegressor(max_depth=2)"
      ]
     },
     "execution_count": 27,
     "metadata": {},
     "output_type": "execute_result"
    }
   ],
   "source": [
    "best_model"
   ]
  },
  {
   "cell_type": "code",
   "execution_count": 28,
   "id": "4d8a6c50-66bd-4a4f-8923-d9e134e18fe1",
   "metadata": {
    "tags": []
   },
   "outputs": [
    {
     "data": {
      "text/html": [
       "<div>\n",
       "<style scoped>\n",
       "    .dataframe tbody tr th:only-of-type {\n",
       "        vertical-align: middle;\n",
       "    }\n",
       "\n",
       "    .dataframe tbody tr th {\n",
       "        vertical-align: top;\n",
       "    }\n",
       "\n",
       "    .dataframe thead th {\n",
       "        text-align: right;\n",
       "    }\n",
       "</style>\n",
       "<table border=\"1\" class=\"dataframe\">\n",
       "  <thead>\n",
       "    <tr style=\"text-align: right;\">\n",
       "      <th></th>\n",
       "      <th>AGE</th>\n",
       "      <th>RAD</th>\n",
       "      <th>TAX</th>\n",
       "      <th>DIS</th>\n",
       "      <th>RM</th>\n",
       "      <th>LSTAT</th>\n",
       "      <th>B</th>\n",
       "      <th>INDUS</th>\n",
       "      <th>CHAS</th>\n",
       "    </tr>\n",
       "  </thead>\n",
       "  <tbody>\n",
       "    <tr>\n",
       "      <th>0</th>\n",
       "      <td>0.102069</td>\n",
       "      <td>0.0</td>\n",
       "      <td>0.0</td>\n",
       "      <td>0.0</td>\n",
       "      <td>0.213658</td>\n",
       "      <td>0.684273</td>\n",
       "      <td>0.0</td>\n",
       "      <td>0.0</td>\n",
       "      <td>0.0</td>\n",
       "    </tr>\n",
       "  </tbody>\n",
       "</table>\n",
       "</div>"
      ],
      "text/plain": [
       "        AGE  RAD  TAX  DIS        RM     LSTAT    B  INDUS  CHAS\n",
       "0  0.102069  0.0  0.0  0.0  0.213658  0.684273  0.0    0.0   0.0"
      ]
     },
     "execution_count": 28,
     "metadata": {},
     "output_type": "execute_result"
    }
   ],
   "source": [
    "pd.DataFrame([best_model.feature_importances_], columns=X_scaled.columns.tolist())"
   ]
  },
  {
   "cell_type": "code",
   "execution_count": 29,
   "id": "6fc1d7c6-7234-4102-977e-3ea71cc1a9a9",
   "metadata": {
    "tags": []
   },
   "outputs": [
    {
     "data": {
      "image/png": "[encoded data removed]",
      "text/plain": [
       "<Figure size 640x480 with 1 Axes>"
      ]
     },
     "metadata": {},
     "output_type": "display_data"
    }
   ],
   "source": [
    "plot_tree(best_model, feature_names=X_scaled.columns.tolist())\n",
    "plt.show()"
   ]
  },
  {
   "cell_type": "markdown",
   "id": "19e44b83-d977-482f-8b50-179a308c697f",
   "metadata": {
    "tags": []
   },
   "source": [
    "---"
   ]
  },
  {
   "cell_type": "code",
   "execution_count": null,
   "id": "f9e4a092-f5a7-4080-a4b0-e07bb04b160e",
   "metadata": {},
   "outputs": [],
   "source": []
  }
 ],
 "metadata": {
  "kernelspec": {
   "display_name": "Python 3 (ipykernel)",
   "language": "python",
   "name": "python3"
  },
  "language_info": {
   "codemirror_mode": {
    "name": "ipython",
    "version": 3
   },
   "file_extension": ".py",
   "mimetype": "text/x-python",
   "name": "python",
   "nbconvert_exporter": "python",
   "pygments_lexer": "ipython3",
   "version": "3.8.10"
  }
 },
 "nbformat": 4,
 "nbformat_minor": 5
}
